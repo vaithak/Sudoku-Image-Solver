{
  "nbformat": 4,
  "nbformat_minor": 0,
  "metadata": {
    "colab": {
      "name": "DigitsClassifyTesting.ipynb",
      "provenance": [],
      "collapsed_sections": [],
      "toc_visible": true
    },
    "kernelspec": {
      "name": "python3",
      "display_name": "Python 3"
    }
  },
  "cells": [
    {
      "cell_type": "code",
      "metadata": {
        "id": "nPWkwlMXmXn8",
        "colab_type": "code",
        "colab": {}
      },
      "source": [
        "import pandas as pd\n",
        "import numpy as np\n",
        "import cv2\n",
        "from tensorflow import keras\n",
        "from sklearn.metrics import accuracy_score\n",
        "from sklearn.pipeline import make_pipeline\n",
        "from sklearn.preprocessing import StandardScaler\n",
        "import joblib "
      ],
      "execution_count": 0,
      "outputs": []
    },
    {
      "cell_type": "code",
      "metadata": {
        "id": "Bxr6wcY6wV_C",
        "colab_type": "code",
        "colab": {}
      },
      "source": [
        "def load_data():\n",
        "    # df_train = pd.read_csv(train_data_file)\n",
        "    # df_test  = pd.read_csv(test_data_file) \n",
        "    # train_features = df_train.iloc[:,1:]\n",
        "    # train_labels   = df_train.iloc[:,0]\n",
        "    # train_features = np.array(train_features).astype(np.uint8)\n",
        "    # test_features = np.array(test).astype(np.uint8) \n",
        "    # return train_features, train_labels, test_features\n",
        "    dataset = keras.datasets.mnist\n",
        "    (X_raw_train, y_train), (X_raw_test, y_test) = dataset.load_data()\n",
        "    return (X_raw_train, y_train, X_raw_test, y_test)"
      ],
      "execution_count": 0,
      "outputs": []
    },
    {
      "cell_type": "code",
      "metadata": {
        "id": "DVof1SGCbk1f",
        "colab_type": "code",
        "colab": {}
      },
      "source": [
        "from scipy.ndimage.interpolation import shift\n",
        "import matplotlib.pyplot as plt\n",
        "\n",
        "def shift_image(image, dx, dy):\n",
        "    shifted_image = shift(image, [dy, dx], cval=0, mode=\"constant\")\n",
        "    return shifted_image"
      ],
      "execution_count": 0,
      "outputs": []
    },
    {
      "cell_type": "code",
      "metadata": {
        "id": "lLAfrbfbjBZo",
        "colab_type": "code",
        "colab": {}
      },
      "source": [
        "def preprocess(X_raw_train, X_raw_test):\n",
        "  X_train = np.zeros((X_raw_train.shape[0], 108))\n",
        "  X_test = np.zeros((X_raw_test.shape[0], 108))\n",
        "\n",
        "  hog = cv2.HOGDescriptor((28, 28), (14, 14), (7, 7), (14, 14), 12)\n",
        "\n",
        "  for n in range(len(X_raw_train)):\n",
        "      X_train[n] = hog.compute(X_raw_train[n]).reshape(1, -1)\n",
        "      \n",
        "  for n in range(len(X_raw_test)):\n",
        "      X_test[n] = hog.compute(X_raw_test[n]).reshape(1, -1)\n",
        "\n",
        "  return X_train, X_test"
      ],
      "execution_count": 0,
      "outputs": []
    },
    {
      "cell_type": "code",
      "metadata": {
        "id": "ntQ5UgaLE9Ap",
        "colab_type": "code",
        "colab": {}
      },
      "source": [
        "# Classify the digits in X_test using the passed classifier 'clf'\n",
        "def classify_Digits(clf, X_test):\n",
        "  # Returns the probability vector of length 10 for each input in X_raw_test\n",
        "  return clf.predict_proba(X_test)"
      ],
      "execution_count": 0,
      "outputs": []
    },
    {
      "cell_type": "code",
      "metadata": {
        "id": "r9lL6BewFPOa",
        "colab_type": "code",
        "colab": {}
      },
      "source": [
        "# Take decision based on probability vector of each class\n",
        "# cost_r: Cost of rejection (In our case we will mark it as empty or no digit = 0 in Sudoku)\n",
        "# cost_w: Cost of wrong classification (In our case we will mark it as empty or no digit = 0 in Sudoku)\n",
        "def take_decision(probabilities, cost_r=10, cost_w=20):\n",
        "  assert cost_w != 0\n",
        "\n",
        "  # Reference: https://www.cs.ubc.ca/~murphyk/Teaching/CS340-Fall07/dtheory.pdf\n",
        "  pred_class = np.argmax(probabilities)\n",
        "  if(probabilities[pred_class] > (1 - (cost_r/cost_w))):\n",
        "    return pred_class\n",
        "\n",
        "  # reject => No digit => 0 for our case\n",
        "  return 0"
      ],
      "execution_count": 0,
      "outputs": []
    },
    {
      "cell_type": "code",
      "metadata": {
        "id": "5HRAsw3qwoKC",
        "colab_type": "code",
        "outputId": "a234208b-6ba7-43aa-e6e1-b8cad49320be",
        "colab": {
          "base_uri": "https://localhost:8080/",
          "height": 68
        }
      },
      "source": [
        "X_raw_train, y_train, X_raw_test, y_test = load_data()\n",
        "\n",
        "print(\"Creating Augmented Dataset...\")\n",
        "X_raw_train_augmented = [image for image in X_raw_train]\n",
        "y_train_augmented = [image for image in y_train]\n",
        "\n",
        "for dx, dy in ((1,0), (-1,0), (0,1), (0,-1), (1,1), (-1,1), (-1,-1), (1,-1)):\n",
        "     for image, label in zip(X_raw_train, y_train):\n",
        "             X_raw_train_augmented.append(shift_image(image, dx, dy))\n",
        "             y_train_augmented.append(label)"
      ],
      "execution_count": 7,
      "outputs": [
        {
          "output_type": "stream",
          "text": [
            "Downloading data from https://storage.googleapis.com/tensorflow/tf-keras-datasets/mnist.npz\n",
            "11493376/11490434 [==============================] - 0s 0us/step\n",
            "Creating Augmented Dataset...\n"
          ],
          "name": "stdout"
        }
      ]
    },
    {
      "cell_type": "code",
      "metadata": {
        "id": "Gu6hozsS7IWt",
        "colab_type": "code",
        "colab": {}
      },
      "source": [
        "X_raw_train_augmented, y_train_augmented = np.array(X_raw_train_augmented), np.array(y_train_augmented)\n",
        "X_train, X_test = preprocess(X_raw_train_augmented, X_raw_test)"
      ],
      "execution_count": 0,
      "outputs": []
    },
    {
      "cell_type": "markdown",
      "metadata": {
        "id": "IcfTU3HpFHXT",
        "colab_type": "text"
      },
      "source": [
        "# Gaussian Naive Bayes"
      ]
    },
    {
      "cell_type": "code",
      "metadata": {
        "id": "JmGwiWC9tJGA",
        "colab_type": "code",
        "colab": {}
      },
      "source": [
        "from sklearn.naive_bayes import GaussianNB"
      ],
      "execution_count": 0,
      "outputs": []
    },
    {
      "cell_type": "code",
      "metadata": {
        "id": "45tt7rfAnzB_",
        "colab_type": "code",
        "colab": {}
      },
      "source": [
        "def train_GNB(X_train, y_train):\n",
        "  clf = GaussianNB()\n",
        "  clf.fit(X_train, y_train)\n",
        "  return clf"
      ],
      "execution_count": 0,
      "outputs": []
    },
    {
      "cell_type": "markdown",
      "metadata": {
        "id": "WZOhwbqJFS7I",
        "colab_type": "text"
      },
      "source": [
        "### Testing Gaussian Naive Bayes"
      ]
    },
    {
      "cell_type": "code",
      "metadata": {
        "id": "-U2310_i6clM",
        "colab_type": "code",
        "outputId": "1b01f956-0ea5-49a4-e842-0d4009594958",
        "colab": {
          "base_uri": "https://localhost:8080/",
          "height": 34
        }
      },
      "source": [
        "clf = train_GNB(X_train, y_train_augmented)\n",
        "print(clf.classes_)"
      ],
      "execution_count": 0,
      "outputs": [
        {
          "output_type": "stream",
          "text": [
            "[0 1 2 3 4 5 6 7 8 9]\n"
          ],
          "name": "stdout"
        }
      ]
    },
    {
      "cell_type": "code",
      "metadata": {
        "id": "rzxqJQuS7IEd",
        "colab_type": "code",
        "colab": {}
      },
      "source": [
        "probabilities_mat = classify_Digits(clf, X_test)\n",
        "y_pred = np.zeros((probabilities_mat.shape[0], ))\n",
        "for i in range(len(probabilities_mat)):\n",
        "  y_pred[i] = take_decision(probabilities_mat[i])"
      ],
      "execution_count": 0,
      "outputs": []
    },
    {
      "cell_type": "code",
      "metadata": {
        "id": "oNZli63I9PAG",
        "colab_type": "code",
        "outputId": "2b07bcbe-8f6d-4bd2-b685-2580c69d3d91",
        "colab": {
          "base_uri": "https://localhost:8080/",
          "height": 51
        }
      },
      "source": [
        "print(y_pred[0:10])\n",
        "print(accuracy_score(y_pred, y_test))"
      ],
      "execution_count": 0,
      "outputs": [
        {
          "output_type": "stream",
          "text": [
            "[7. 2. 1. 0. 4. 1. 4. 9. 5. 7.]\n",
            "0.915\n"
          ],
          "name": "stdout"
        }
      ]
    },
    {
      "cell_type": "code",
      "metadata": {
        "id": "a0l1IqzTAA_V",
        "colab_type": "code",
        "outputId": "b517cb7b-5a72-4130-f475-7c0ad0821e08",
        "colab": {
          "base_uri": "https://localhost:8080/",
          "height": 34
        }
      },
      "source": [
        "# Save model\n",
        "joblib.dump(clf, 'GNB.pkl')"
      ],
      "execution_count": 0,
      "outputs": [
        {
          "output_type": "execute_result",
          "data": {
            "text/plain": [
              "['GNB.pkl']"
            ]
          },
          "metadata": {
            "tags": []
          },
          "execution_count": 29
        }
      ]
    },
    {
      "cell_type": "markdown",
      "metadata": {
        "id": "8pJwXJufEgmn",
        "colab_type": "text"
      },
      "source": [
        "# Random Forest model"
      ]
    },
    {
      "cell_type": "code",
      "metadata": {
        "id": "ePoGfqEXEkyc",
        "colab_type": "code",
        "colab": {}
      },
      "source": [
        "from sklearn.ensemble import RandomForestClassifier"
      ],
      "execution_count": 0,
      "outputs": []
    },
    {
      "cell_type": "code",
      "metadata": {
        "id": "Q-cI7kBBFZPP",
        "colab_type": "code",
        "colab": {}
      },
      "source": [
        "def train_Random_Forest(X_train, y_train):\n",
        "  rfc = RandomForestClassifier(n_jobs=-1, n_estimators=100, max_depth = 20)\n",
        "  rfc.fit(X_train, y_train)\n",
        "  return rfc"
      ],
      "execution_count": 0,
      "outputs": []
    },
    {
      "cell_type": "markdown",
      "metadata": {
        "id": "1W6Wp9ifHl5_",
        "colab_type": "text"
      },
      "source": [
        "### Testing Random Forest classifier"
      ]
    },
    {
      "cell_type": "code",
      "metadata": {
        "id": "IBmyH0zKAmp_",
        "colab_type": "code",
        "outputId": "e79915cd-feee-4eb3-fd52-32c0b8383e04",
        "colab": {
          "base_uri": "https://localhost:8080/",
          "height": 34
        }
      },
      "source": [
        "clf = train_Random_Forest(X_train, y_train_augmented)\n",
        "print(clf.classes_)"
      ],
      "execution_count": 0,
      "outputs": [
        {
          "output_type": "stream",
          "text": [
            "[0 1 2 3 4 5 6 7 8 9]\n"
          ],
          "name": "stdout"
        }
      ]
    },
    {
      "cell_type": "code",
      "metadata": {
        "id": "t695PU41Eey1",
        "colab_type": "code",
        "colab": {}
      },
      "source": [
        "probabilities_mat = classify_Digits(clf, X_test)\n",
        "y_pred = np.zeros((probabilities_mat.shape[0], ))\n",
        "for i in range(len(probabilities_mat)):\n",
        "  y_pred[i] = take_decision(probabilities_mat[i])"
      ],
      "execution_count": 0,
      "outputs": []
    },
    {
      "cell_type": "code",
      "metadata": {
        "id": "Iv15gl_gqjJ9",
        "colab_type": "code",
        "outputId": "5e06f95a-df90-4935-fbac-cca3a6b68082",
        "colab": {
          "base_uri": "https://localhost:8080/",
          "height": 51
        }
      },
      "source": [
        "print(y_pred[0:10])\n",
        "print(accuracy_score(y_pred, y_test))"
      ],
      "execution_count": 0,
      "outputs": [
        {
          "output_type": "stream",
          "text": [
            "[7. 2. 1. 0. 4. 1. 4. 9. 5. 9.]\n",
            "0.9372\n"
          ],
          "name": "stdout"
        }
      ]
    },
    {
      "cell_type": "code",
      "metadata": {
        "id": "O9D7nfxdAZz9",
        "colab_type": "code",
        "outputId": "48919987-1c6b-4a77-d029-00e7395446e3",
        "colab": {
          "base_uri": "https://localhost:8080/",
          "height": 34
        }
      },
      "source": [
        "# Save model\n",
        "joblib.dump(clf, 'RandomForest.pkl')"
      ],
      "execution_count": 0,
      "outputs": [
        {
          "output_type": "execute_result",
          "data": {
            "text/plain": [
              "['RandomForest.pkl']"
            ]
          },
          "metadata": {
            "tags": []
          },
          "execution_count": 45
        }
      ]
    },
    {
      "cell_type": "markdown",
      "metadata": {
        "id": "gOE4tjR9JRfD",
        "colab_type": "text"
      },
      "source": [
        "# Softmax Regression (Logistic regression for > 2 classes)"
      ]
    },
    {
      "cell_type": "code",
      "metadata": {
        "id": "LrRwQr6DJTvE",
        "colab_type": "code",
        "colab": {}
      },
      "source": [
        "from sklearn.linear_model import LogisticRegression"
      ],
      "execution_count": 0,
      "outputs": []
    },
    {
      "cell_type": "code",
      "metadata": {
        "id": "sRLJT6uhcPU-",
        "colab_type": "code",
        "colab": {}
      },
      "source": [
        "def train_SoftmaxRegression(X_train, y_train, max_iterations=100):\n",
        "  clf = LogisticRegression(penalty='l2', dual=False, solver='lbfgs', multi_class='multinomial')\n",
        "  clf.fit(X_train, y_train)\n",
        "  return clf"
      ],
      "execution_count": 0,
      "outputs": []
    },
    {
      "cell_type": "markdown",
      "metadata": {
        "id": "v5iKWrCIc_kk",
        "colab_type": "text"
      },
      "source": [
        "### Testing softmax regression model"
      ]
    },
    {
      "cell_type": "code",
      "metadata": {
        "id": "T1uheAP5dE3w",
        "colab_type": "code",
        "outputId": "4cad2065-4493-43d9-d654-eaa749d766ec",
        "colab": {
          "base_uri": "https://localhost:8080/",
          "height": 190
        }
      },
      "source": [
        "clf = train_SoftmaxRegression(X_train, y_train_augmented, max_iterations=1000)\n",
        "print(clf.classes_)"
      ],
      "execution_count": 0,
      "outputs": [
        {
          "output_type": "stream",
          "text": [
            "[0 1 2 3 4 5 6 7 8 9]\n"
          ],
          "name": "stdout"
        },
        {
          "output_type": "stream",
          "text": [
            "/usr/local/lib/python3.6/dist-packages/sklearn/linear_model/_logistic.py:940: ConvergenceWarning: lbfgs failed to converge (status=1):\n",
            "STOP: TOTAL NO. of ITERATIONS REACHED LIMIT.\n",
            "\n",
            "Increase the number of iterations (max_iter) or scale the data as shown in:\n",
            "    https://scikit-learn.org/stable/modules/preprocessing.html\n",
            "Please also refer to the documentation for alternative solver options:\n",
            "    https://scikit-learn.org/stable/modules/linear_model.html#logistic-regression\n",
            "  extra_warning_msg=_LOGISTIC_SOLVER_CONVERGENCE_MSG)\n"
          ],
          "name": "stderr"
        }
      ]
    },
    {
      "cell_type": "code",
      "metadata": {
        "id": "4XTFn_4ydo_d",
        "colab_type": "code",
        "colab": {}
      },
      "source": [
        "probabilities_mat = classify_Digits(clf, X_test)\n",
        "y_pred = np.zeros((probabilities_mat.shape[0], ))\n",
        "for i in range(len(probabilities_mat)):\n",
        "  y_pred[i] = take_decision(probabilities_mat[i])"
      ],
      "execution_count": 0,
      "outputs": []
    },
    {
      "cell_type": "code",
      "metadata": {
        "id": "xY1aLIYmdrh7",
        "colab_type": "code",
        "outputId": "3e382bc5-41e1-4922-fa10-301f5a77c921",
        "colab": {
          "base_uri": "https://localhost:8080/"
        }
      },
      "source": [
        "print(y_pred[0:10])\n",
        "print(accuracy_score(y_pred, y_test))"
      ],
      "execution_count": 0,
      "outputs": [
        {
          "output_type": "stream",
          "text": [
            "[7. 2. 1. 0. 4. 1. 4. 9. 5. 9.]\n",
            "0.9668\n"
          ],
          "name": "stdout"
        }
      ]
    },
    {
      "cell_type": "code",
      "metadata": {
        "id": "7m-YqWZkqQA0",
        "colab_type": "code",
        "outputId": "a5efb1fc-954b-4e74-bceb-7730400f091c",
        "colab": {
          "base_uri": "https://localhost:8080/",
          "height": 34
        }
      },
      "source": [
        "# Save model\n",
        "joblib.dump(clf, 'Softmax.pkl')"
      ],
      "execution_count": 0,
      "outputs": [
        {
          "output_type": "execute_result",
          "data": {
            "text/plain": [
              "['Softmax.pkl']"
            ]
          },
          "metadata": {
            "tags": []
          },
          "execution_count": 56
        }
      ]
    },
    {
      "cell_type": "markdown",
      "metadata": {
        "id": "v_kPGhhgJlJh",
        "colab_type": "text"
      },
      "source": [
        "# Gradient Boosted Softmax Regression (cross entropy loss)"
      ]
    },
    {
      "cell_type": "code",
      "metadata": {
        "id": "I6uNRszeJo0i",
        "colab_type": "code",
        "colab": {}
      },
      "source": [
        "import xgboost"
      ],
      "execution_count": 0,
      "outputs": []
    },
    {
      "cell_type": "code",
      "metadata": {
        "id": "4ckfVFCF6OGj",
        "colab_type": "code",
        "colab": {}
      },
      "source": [
        "def train_XGBoostSoftmax(X_train, y_train, max_depth=6, n_estimators=50):\n",
        "  model = xgboost.XGBClassifier(objective=\"multi:softmax\", booster=\"gbtree\", max_depth=max_depth, n_estimators=n_estimators, num_classes=10)\n",
        "  model.fit(X_train, y_train)\n",
        "  return model"
      ],
      "execution_count": 0,
      "outputs": []
    },
    {
      "cell_type": "code",
      "metadata": {
        "id": "_svF46mA6LvG",
        "colab_type": "code",
        "outputId": "0a091287-2022-4afd-d6aa-07db4b905f50",
        "colab": {
          "base_uri": "https://localhost:8080/",
          "height": 34
        }
      },
      "source": [
        "# clf = train_XGBoostSoftmax(X_train, y_train_augmented, max_depth=7, n_estimators=100)\n",
        "clf = joblib.load(\"XGBOOST.pkl\")\n",
        "print(clf.classes_)"
      ],
      "execution_count": 0,
      "outputs": [
        {
          "output_type": "stream",
          "text": [
            "[0 1 2 3 4 5 6 7 8 9]\n"
          ],
          "name": "stdout"
        }
      ]
    },
    {
      "cell_type": "code",
      "metadata": {
        "id": "ju-DKNydr9Ch",
        "colab_type": "code",
        "outputId": "5598f90c-b3b7-45f0-b013-67fcbce31c1f",
        "colab": {
          "base_uri": "https://localhost:8080/",
          "height": 51
        }
      },
      "source": [
        "probabilities_mat = classify_Digits(clf, X_test)\n",
        "y_pred = np.zeros((probabilities_mat.shape[0], ))\n",
        "print(probabilities_mat[0])\n",
        "for i in range(len(probabilities_mat)):\n",
        "  y_pred[i] = take_decision(probabilities_mat[i])"
      ],
      "execution_count": 0,
      "outputs": [
        {
          "output_type": "stream",
          "text": [
            "[2.3678804e-05 2.8760120e-05 4.0040057e-05 6.5543842e-05 3.8886657e-05\n",
            " 5.7991092e-05 1.9326704e-05 9.9962735e-01 3.2450516e-05 6.5977889e-05]\n"
          ],
          "name": "stdout"
        }
      ]
    },
    {
      "cell_type": "code",
      "metadata": {
        "id": "xuwJc5AesDc7",
        "colab_type": "code",
        "outputId": "27b7dbcf-bf1e-44a4-f7d5-7b9c9d4ee50a",
        "colab": {
          "base_uri": "https://localhost:8080/",
          "height": 51
        }
      },
      "source": [
        "print(y_pred[0:10])\n",
        "print(accuracy_score(y_pred, y_test))"
      ],
      "execution_count": 0,
      "outputs": [
        {
          "output_type": "stream",
          "text": [
            "[7. 2. 1. 0. 4. 1. 4. 9. 5. 9.]\n",
            "0.9753\n"
          ],
          "name": "stdout"
        }
      ]
    },
    {
      "cell_type": "code",
      "metadata": {
        "id": "oVTQ2I_VsRns",
        "colab_type": "code",
        "colab": {}
      },
      "source": [
        "# Save model\n",
        "# joblib.dump(clf, 'XGBOOST.pkl')\n",
        "clf.save_model(\"XGBOOST.bin\")"
      ],
      "execution_count": 0,
      "outputs": []
    },
    {
      "cell_type": "code",
      "metadata": {
        "id": "Fx8RhjAOj4AD",
        "colab_type": "code",
        "outputId": "81c40eed-3c27-4b8d-b57d-0da453fe1e09",
        "colab": {
          "base_uri": "https://localhost:8080/",
          "height": 268
        }
      },
      "source": [
        "# Standard scientific Python imports\n",
        "import matplotlib.pyplot as plt\n",
        "\n",
        "# Import datasets, classifiers and performance metrics\n",
        "from sklearn import datasets, svm, metrics\n",
        "from sklearn.model_selection import train_test_split\n",
        "\n",
        "# The digits dataset\n",
        "digits = datasets.load_digits()\n",
        "\n",
        "# The data that we are interested in is made of 8x8 images of digits, let's\n",
        "# have a look at the first 4 images, stored in the `images` attribute of the\n",
        "# dataset.  If we were working from image files, we could load them using\n",
        "# matplotlib.pyplot.imread.  Note that each image must have the same size. For these\n",
        "# images, we know which digit they represent: it is given in the 'target' of\n",
        "# the dataset.\n",
        "_, axes = plt.subplots(2, 4)\n",
        "images_and_labels = list(zip(digits.images, digits.target))\n",
        "for ax, (image, label) in zip(axes[0, :], images_and_labels[109:113]):\n",
        "    ax.set_axis_off()\n",
        "    ax.imshow(image, cmap=plt.cm.gray_r, interpolation='nearest')\n",
        "    ax.set_title('Training: %i' % label)"
      ],
      "execution_count": 0,
      "outputs": [
        {
          "output_type": "display_data",
          "data": {
            "image/png": "[encoded data removed]",
            "text/plain": [
              "<Figure size 432x288 with 8 Axes>"
            ]
          },
          "metadata": {
            "tags": [],
            "needs_background": "light"
          }
        }
      ]
    },
    {
      "cell_type": "code",
      "metadata": {
        "id": "HswmA43Oj4wd",
        "colab_type": "code",
        "colab": {}
      },
      "source": [
        "image = X_raw_train[1000]\n",
        "shifted_image_down = shift_image(image, 0, 1)\n",
        "shifted_image_left = shift_image(image, -1, 0)"
      ],
      "execution_count": 0,
      "outputs": []
    },
    {
      "cell_type": "code",
      "metadata": {
        "id": "DnPXTMoVlA2I",
        "colab_type": "code",
        "outputId": "e359aab2-c4c8-4bdb-dff5-a8b796cfdd2b",
        "colab": {
          "base_uri": "https://localhost:8080/",
          "height": 245
        }
      },
      "source": [
        "plt.figure(figsize=(12,3))\n",
        "plt.subplot(131)\n",
        "plt.title(\"original\", fontsize=14)\n",
        "plt.imshow(image.reshape(28, 28), interpolation=\"nearest\", cmap=\"Greys\")\n",
        "\n",
        "plt.subplot(132)\n",
        "plt.title(\"shifted down\", fontsize=14)\n",
        "plt.imshow(shifted_image_down.reshape(28, 28), interpolation=\"nearest\", cmap=\"Greys\")\n",
        "\n",
        "plt.subplot(133)\n",
        "plt.title(\"shifted left\", fontsize=14)\n",
        "plt.imshow(shifted_image_left.reshape(28, 28), interpolation=\"nearest\", cmap=\"Greys\")"
      ],
      "execution_count": 0,
      "outputs": [
        {
          "output_type": "execute_result",
          "data": {
            "text/plain": [
              "<matplotlib.image.AxesImage at 0x7f841b563668>"
            ]
          },
          "metadata": {
            "tags": []
          },
          "execution_count": 25
        },
        {
          "output_type": "display_data",
          "data": {
            "image/png": "[encoded data removed]",
            "text/plain": [
              "<Figure size 864x216 with 3 Axes>"
            ]
          },
          "metadata": {
            "tags": [],
            "needs_background": "light"
          }
        }
      ]
    },
    {
      "cell_type": "code",
      "metadata": {
        "id": "fEP5Z19emNtB",
        "colab_type": "code",
        "outputId": "8dd3d614-ea0c-48c9-d75f-62b76a48ee10",
        "colab": {
          "base_uri": "https://localhost:8080/",
          "height": 190
        }
      },
      "source": [
        "clf_t = train_SoftmaxRegression(X_raw_train_augmented.reshape((-1, 28*28)), y_train_augmented, max_iterations=5000)\n",
        "print(clf_t.classes_)"
      ],
      "execution_count": 0,
      "outputs": [
        {
          "output_type": "stream",
          "text": [
            "[0 1 2 3 4 5 6 7 8 9]\n"
          ],
          "name": "stdout"
        },
        {
          "output_type": "stream",
          "text": [
            "/usr/local/lib/python3.6/dist-packages/sklearn/linear_model/_logistic.py:940: ConvergenceWarning: lbfgs failed to converge (status=1):\n",
            "STOP: TOTAL NO. of ITERATIONS REACHED LIMIT.\n",
            "\n",
            "Increase the number of iterations (max_iter) or scale the data as shown in:\n",
            "    https://scikit-learn.org/stable/modules/preprocessing.html\n",
            "Please also refer to the documentation for alternative solver options:\n",
            "    https://scikit-learn.org/stable/modules/linear_model.html#logistic-regression\n",
            "  extra_warning_msg=_LOGISTIC_SOLVER_CONVERGENCE_MSG)\n"
          ],
          "name": "stderr"
        }
      ]
    },
    {
      "cell_type": "code",
      "metadata": {
        "id": "LLR9eteZpDUb",
        "colab_type": "code",
        "colab": {}
      },
      "source": [
        "probabilities_mat = classify_Digits(clf_t, X_test_2)\n",
        "y_pred = np.zeros((probabilities_mat.shape[0], ))\n",
        "for i in range(len(probabilities_mat)):\n",
        "  y_pred[i] = take_decision(probabilities_mat[i])"
      ],
      "execution_count": 0,
      "outputs": []
    },
    {
      "cell_type": "code",
      "metadata": {
        "id": "iFFS42ZFolYc",
        "colab_type": "code",
        "outputId": "b4f11fa5-abc5-4add-d13c-83d3d5aee01f",
        "colab": {
          "base_uri": "https://localhost:8080/",
          "height": 51
        }
      },
      "source": [
        "print(y_pred[0:10])\n",
        "print(accuracy_score(y_pred, y_test))"
      ],
      "execution_count": 0,
      "outputs": [
        {
          "output_type": "stream",
          "text": [
            "[7. 2. 1. 0. 4. 1. 4. 9. 6. 9.]\n",
            "0.9035\n"
          ],
          "name": "stdout"
        }
      ]
    },
    {
      "cell_type": "markdown",
      "metadata": {
        "id": "2jQiiDD4mOAx",
        "colab_type": "text"
      },
      "source": [
        "# Testing on Computer typed hand labelled dataset"
      ]
    },
    {
      "cell_type": "code",
      "metadata": {
        "id": "Ng1V1lvfM-dp",
        "colab_type": "code",
        "outputId": "b5f9dfba-48e9-4d05-e93c-08f1ad720159",
        "colab": {
          "base_uri": "https://localhost:8080/",
          "height": 68
        }
      },
      "source": [
        "X_raw_train_2 = np.loadtxt(\"X_train.csv\", dtype=np.uint8, delimiter=' ')\n",
        "y_train_2 = np.loadtxt(\"y_train.csv\", dtype=np.uint8, delimiter=' ')\n",
        "print(X_raw_train_2.shape, y_train_2.shape)\n",
        "\n",
        "X_raw_train_2 = np.reshape(X_raw_train_2, (-1, 28, 28))\n",
        "\n",
        "print(\"Creating Augmented Dataset...\")\n",
        "X_raw_train_augmented_2 = [image for image in X_raw_train_2]\n",
        "y_train_augmented_2 = [image for image in y_train_2]\n",
        "\n",
        "for dx, dy in ((1,0), (-1,0), (0,1), (0,-1), (1,1), (-1,1), (-1,-1), (1,-1)):\n",
        "     for image, label in zip(X_raw_train_2, y_train_2):\n",
        "             X_raw_train_augmented_2.append(shift_image(image, dx, dy))\n",
        "             y_train_augmented_2.append(label)\n",
        "\n",
        "X_raw_train_augmented_2 = np.array(X_raw_train_augmented_2, dtype=np.uint8)\n",
        "y_train_augmented_2 = np.array(y_train_augmented_2, dtype=np.uint8)\n",
        "\n",
        "print(X_raw_train_augmented_2.shape, y_train_augmented_2.shape)"
      ],
      "execution_count": 10,
      "outputs": [
        {
          "output_type": "stream",
          "text": [
            "(313, 784) (313,)\n",
            "Creating Augmented Dataset...\n",
            "(2817, 28, 28) (2817,)\n"
          ],
          "name": "stdout"
        }
      ]
    },
    {
      "cell_type": "code",
      "metadata": {
        "id": "A0-_0eUPiGiS",
        "colab_type": "code",
        "outputId": "e4efbc8c-5ecc-493d-a2b9-102446892dc4",
        "colab": {
          "base_uri": "https://localhost:8080/",
          "height": 34
        }
      },
      "source": [
        "X_train_small, X_test_small = preprocess(X_raw_train_augmented_2[0:2000], X_raw_train_augmented_2[2000:])\n",
        "y_train_small, y_test_small = y_train_augmented_2[0:2000], y_train_augmented_2[2000:]\n",
        "print(X_train_small.shape)"
      ],
      "execution_count": 11,
      "outputs": [
        {
          "output_type": "stream",
          "text": [
            "(2000, 108)\n"
          ],
          "name": "stdout"
        }
      ]
    },
    {
      "cell_type": "code",
      "metadata": {
        "id": "YSagbjh4NRWE",
        "colab_type": "code",
        "outputId": "1fdb9e5a-f7b2-44d3-bdad-9adead2000fd",
        "colab": {
          "base_uri": "https://localhost:8080/",
          "height": 51
        }
      },
      "source": [
        "print(X_train.shape, y_train_augmented.shape)\n",
        "l = np.append(X_train, X_train_small, axis=0)\n",
        "m = np.append(y_train_augmented, y_train_small)\n",
        "print(l.shape, m.shape)"
      ],
      "execution_count": 12,
      "outputs": [
        {
          "output_type": "stream",
          "text": [
            "(540000, 108) (540000,)\n",
            "(542000, 108) (542000,)\n"
          ],
          "name": "stdout"
        }
      ]
    },
    {
      "cell_type": "code",
      "metadata": {
        "id": "qsXIApJXPOdF",
        "colab_type": "code",
        "outputId": "8e5f055c-dea5-4963-ba2f-1bdf26fa3fc2",
        "colab": {
          "base_uri": "https://localhost:8080/",
          "height": 190
        }
      },
      "source": [
        "clf_sf_mod = train_SoftmaxRegression(l, m, max_iterations=5000)\n",
        "print(clf_sf_mod.classes_)"
      ],
      "execution_count": 18,
      "outputs": [
        {
          "output_type": "stream",
          "text": [
            "[0 1 2 3 4 5 6 7 8 9]\n"
          ],
          "name": "stdout"
        },
        {
          "output_type": "stream",
          "text": [
            "/usr/local/lib/python3.6/dist-packages/sklearn/linear_model/_logistic.py:940: ConvergenceWarning: lbfgs failed to converge (status=1):\n",
            "STOP: TOTAL NO. of ITERATIONS REACHED LIMIT.\n",
            "\n",
            "Increase the number of iterations (max_iter) or scale the data as shown in:\n",
            "    https://scikit-learn.org/stable/modules/preprocessing.html\n",
            "Please also refer to the documentation for alternative solver options:\n",
            "    https://scikit-learn.org/stable/modules/linear_model.html#logistic-regression\n",
            "  extra_warning_msg=_LOGISTIC_SOLVER_CONVERGENCE_MSG)\n"
          ],
          "name": "stderr"
        }
      ]
    },
    {
      "cell_type": "code",
      "metadata": {
        "id": "Y0H0waJTslVK",
        "colab_type": "code",
        "colab": {}
      },
      "source": [
        "probabilities_mat = classify_Digits(clf_sf_mod, X_test_small)\n",
        "y_pred = np.zeros((probabilities_mat.shape[0], ), dtype=np.uint8)\n",
        "for i in range(len(probabilities_mat)):\n",
        "  y_pred[i] = take_decision(probabilities_mat[i], 10, 15)"
      ],
      "execution_count": 0,
      "outputs": []
    },
    {
      "cell_type": "code",
      "metadata": {
        "id": "Antu9iFVjuus",
        "colab_type": "code",
        "outputId": "a36a0a0c-3437-479e-fa51-2ba1eae06b89",
        "colab": {
          "base_uri": "https://localhost:8080/",
          "height": 68
        }
      },
      "source": [
        "print(accuracy_score(y_pred, y_test_small))\n",
        "print(y_pred[0:30])\n",
        "print(y_test_small[0:30])"
      ],
      "execution_count": 21,
      "outputs": [
        {
          "output_type": "stream",
          "text": [
            "0.8727050183598531\n",
            "[1 6 7 4 5 7 1 7 4 0 5 5 4 2 8 3 4 8 1 9 3 7 1 8 8 8 5 3 3 7]\n",
            "[1 6 7 4 5 7 1 7 4 9 5 5 4 2 8 3 4 8 1 9 3 7 1 6 6 8 5 8 6 7]\n"
          ],
          "name": "stdout"
        }
      ]
    },
    {
      "cell_type": "code",
      "metadata": {
        "id": "WSdQyfJvQ_mK",
        "colab_type": "code",
        "outputId": "58275192-8830-4826-92e2-39e9dd62e57a",
        "colab": {
          "base_uri": "https://localhost:8080/",
          "height": 34
        }
      },
      "source": [
        "# Save model\n",
        "joblib.dump(clf_sf_mod, 'Softmax.pkl')"
      ],
      "execution_count": 0,
      "outputs": [
        {
          "output_type": "execute_result",
          "data": {
            "text/plain": [
              "['Softmax.pkl']"
            ]
          },
          "metadata": {
            "tags": []
          },
          "execution_count": 105
        }
      ]
    },
    {
      "cell_type": "code",
      "metadata": {
        "id": "9zA1QnspPL8H",
        "colab_type": "code",
        "colab": {}
      },
      "source": [
        "clf_rf = train_Random_Forest(l, m)\n",
        "print(clf_rf.classes_)"
      ],
      "execution_count": 0,
      "outputs": []
    },
    {
      "cell_type": "code",
      "metadata": {
        "id": "nLnCkxd7Prve",
        "colab_type": "code",
        "colab": {}
      },
      "source": [
        "probabilities_mat = classify_Digits(clf_rf, X_test_small)\n",
        "y_pred = np.zeros((probabilities_mat.shape[0], ), dtype=np.uint8)\n",
        "for i in range(len(probabilities_mat)):\n",
        "  y_pred[i] = take_decision(probabilities_mat[i], 10, 15)"
      ],
      "execution_count": 0,
      "outputs": []
    },
    {
      "cell_type": "code",
      "metadata": {
        "id": "qriz8mK2mMIE",
        "colab_type": "code",
        "outputId": "986014d7-3201-447a-9ea6-fb172826f7c3",
        "colab": {
          "base_uri": "https://localhost:8080/"
        }
      },
      "source": [
        "print(accuracy_score(y_pred, y_test_small))\n",
        "print(y_pred[0:10])\n",
        "print(y_test[0:10])"
      ],
      "execution_count": 0,
      "outputs": [
        {
          "output_type": "stream",
          "text": [
            "0.0\n",
            "[0 0 0 0 0 0 0 0 0 0]\n",
            "[7 2 1 0 4 1 4 9 5 9]\n"
          ],
          "name": "stdout"
        }
      ]
    },
    {
      "cell_type": "code",
      "metadata": {
        "id": "pRT2a8G7Ne-a",
        "colab_type": "code",
        "outputId": "88df8141-9627-4b84-e316-a4b45ce6997a",
        "colab": {
          "base_uri": "https://localhost:8080/",
          "height": 68
        }
      },
      "source": [
        "print(accuracy_score(y_pred, y_test_small))\n",
        "print(y_pred[0:10])\n",
        "print(y_test[0:10])"
      ],
      "execution_count": 0,
      "outputs": [
        {
          "output_type": "stream",
          "text": [
            "0.0\n",
            "[0 0 0 0 0 0 0 0 0 0]\n",
            "[7 2 1 0 4 1 4 9 5 9]\n"
          ],
          "name": "stdout"
        }
      ]
    },
    {
      "cell_type": "code",
      "metadata": {
        "id": "VNv1VMGuPun3",
        "colab_type": "code",
        "colab": {}
      },
      "source": [
        "clf_xg = train_XGBoostSoftmax(l, m, max_depth=8, n_estimators=100)"
      ],
      "execution_count": 0,
      "outputs": []
    },
    {
      "cell_type": "code",
      "metadata": {
        "id": "mWcpxwertWGa",
        "colab_type": "code",
        "colab": {}
      },
      "source": [
        "probabilities_mat = classify_Digits(clf_xg, X_test_small)\n",
        "y_pred = np.zeros((probabilities_mat.shape[0], ), dtype=np.uint8)\n",
        "for i in range(len(probabilities_mat)):\n",
        "  y_pred[i] = take_decision(probabilities_mat[i], 10, 10)"
      ],
      "execution_count": 0,
      "outputs": []
    },
    {
      "cell_type": "code",
      "metadata": {
        "id": "4KvlRwketJwl",
        "colab_type": "code",
        "colab": {
          "base_uri": "https://localhost:8080/",
          "height": 68
        },
        "outputId": "ae152d8f-4d86-43a1-a2e8-2b50727bf1ef"
      },
      "source": [
        "print(accuracy_score(y_pred, y_test_small))\n",
        "print(y_pred[0:30])\n",
        "print(y_test_small[0:30])"
      ],
      "execution_count": 32,
      "outputs": [
        {
          "output_type": "stream",
          "text": [
            "0.8580171358629131\n",
            "[1 5 7 8 5 7 1 7 6 0 5 5 2 2 8 3 4 8 1 9 3 7 1 8 6 8 5 3 3 7]\n",
            "[1 6 7 4 5 7 1 7 4 9 5 5 4 2 8 3 4 8 1 9 3 7 1 6 6 8 5 8 6 7]\n"
          ],
          "name": "stdout"
        }
      ]
    },
    {
      "cell_type": "code",
      "metadata": {
        "id": "oWXJEs-8tYW3",
        "colab_type": "code",
        "colab": {}
      },
      "source": [
        ""
      ],
      "execution_count": 0,
      "outputs": []
    }
  ]
}