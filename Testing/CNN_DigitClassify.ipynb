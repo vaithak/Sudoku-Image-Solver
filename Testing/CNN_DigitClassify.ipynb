{
  "nbformat": 4,
  "nbformat_minor": 0,
  "metadata": {
    "colab": {
      "name": "CNN-DigitClassify.ipynb",
      "provenance": []
    },
    "kernelspec": {
      "name": "python3",
      "display_name": "Python 3"
    },
    "accelerator": "GPU"
  },
  "cells": [
    {
      "cell_type": "code",
      "metadata": {
        "id": "ytlgn0B7BRne",
        "colab_type": "code",
        "colab": {}
      },
      "source": [
        "# Simple CNN for the MNIST Dataset\n",
        "from keras.datasets import mnist\n",
        "from keras.models import Sequential\n",
        "from keras.layers import Dense\n",
        "from keras.layers import Dropout\n",
        "from keras.layers import Flatten\n",
        "from keras.layers.convolutional import Conv2D\n",
        "from keras.layers.convolutional import MaxPooling2D\n",
        "from keras.utils import np_utils\n",
        "import numpy as np"
      ],
      "execution_count": 0,
      "outputs": []
    },
    {
      "cell_type": "code",
      "metadata": {
        "id": "vMJDjWFXCaaM",
        "colab_type": "code",
        "colab": {}
      },
      "source": [
        "from scipy.ndimage.interpolation import shift\n",
        "\n",
        "def shift_image(image, dx, dy):\n",
        "    shifted_image = shift(image, [dy, dx], cval=0, mode=\"constant\")\n",
        "    return shifted_image"
      ],
      "execution_count": 0,
      "outputs": []
    },
    {
      "cell_type": "code",
      "metadata": {
        "id": "k-fhs1-_BipO",
        "colab_type": "code",
        "outputId": "2a0b2144-8362-4804-c911-8540ca35d64b",
        "colab": {
          "base_uri": "https://localhost:8080/",
          "height": 34
        }
      },
      "source": [
        "# load data\n",
        "(X_raw_train, y_train), (X_raw_test, y_test) = mnist.load_data()\n",
        "print(\"Creating Augmented Dataset...\")\n",
        "X_raw_train_augmented = [image for image in X_raw_train]\n",
        "y_train_augmented = [label for label in y_train]\n",
        "\n",
        "for dx, dy in ((1,0), (-1,0), (0,1), (0,-1), (1,1), (-1,1), (-1,-1), (1,-1)):\n",
        "     for image, label in zip(X_raw_train, y_train):\n",
        "             X_raw_train_augmented.append(shift_image(image, dx, dy))\n",
        "             y_train_augmented.append(label)\n",
        "\n",
        "X_raw_train = np.array(X_raw_train_augmented, dtype=np.uint8)\n",
        "y_train_augmented = np.array(y_train_augmented, dtype=np.uint8)"
      ],
      "execution_count": 0,
      "outputs": [
        {
          "output_type": "stream",
          "text": [
            "Creating Augmented Dataset...\n"
          ],
          "name": "stdout"
        }
      ]
    },
    {
      "cell_type": "code",
      "metadata": {
        "id": "WOT4VdZ7Jl0B",
        "colab_type": "code",
        "outputId": "69531a12-e70a-42c9-c25b-f6b7d10b843b",
        "colab": {
          "base_uri": "https://localhost:8080/",
          "height": 85
        }
      },
      "source": [
        "print(\"Adding hand labelled data for sudoku grid\")\n",
        "print(X_raw_train.shape, y_train_augmented.shape)\n",
        "X_raw_train_2 = np.loadtxt(\"X_train.csv\", dtype=np.uint8, delimiter=' ')\n",
        "y_train_2 = np.loadtxt(\"y_train.csv\", dtype=np.uint8, delimiter=' ')\n",
        "print(X_raw_train_2.shape, y_train_2.shape)\n",
        "\n",
        "X_raw_train_2 = np.reshape(X_raw_train_2, (-1, 28, 28))\n",
        "X_raw_train_2 = 255 - X_raw_train_2   # inverting as hand labelled data set has number is white and back in black\n",
        "\n",
        "print(\"Creating Augmented Dataset...\")\n",
        "X_raw_train_augmented_2 = [image for image in X_raw_train_2]\n",
        "y_train_augmented_2 = [label for label in y_train_2]\n",
        "\n",
        "for dx, dy in ((1,0), (-1,0), (0,1), (0,-1), (1,1), (-1,1), (-1,-1), (1,-1)):\n",
        "     for image, label in zip(X_raw_train_2, y_train_2):\n",
        "             X_raw_train_augmented_2.append(shift_image(image, dx, dy))\n",
        "             y_train_augmented_2.append(label)\n",
        "\n",
        "X_raw_train_augmented_2 = np.array(X_raw_train_augmented_2, dtype=np.uint8)\n",
        "y_train_augmented_2 = np.array(y_train_augmented_2, dtype=np.uint8)\n",
        "\n",
        "X_raw_train = np.append(X_raw_train, X_raw_train_augmented_2, axis=0)\n",
        "y_train_augmented = np.append(y_train_augmented, y_train_augmented_2)"
      ],
      "execution_count": 0,
      "outputs": [
        {
          "output_type": "stream",
          "text": [
            "Adding hand labelled data for sudoku grid\n",
            "(540000, 28, 28) (540000,)\n",
            "(313, 784) (313,)\n",
            "Creating Augmented Dataset...\n"
          ],
          "name": "stdout"
        }
      ]
    },
    {
      "cell_type": "code",
      "metadata": {
        "id": "bXB-BPqDGJYt",
        "colab_type": "code",
        "colab": {}
      },
      "source": [
        "# reshape to be [samples][width][height][channels]\n",
        "X_train = X_raw_train.reshape((X_raw_train.shape[0], 28, 28, 1)).astype('float32')\n",
        "X_test = X_raw_test.reshape((X_raw_test.shape[0], 28, 28, 1)).astype('float32')\n",
        "\n",
        "# normalize inputs from 0-255 to 0-1\n",
        "X_train = X_train / 255\n",
        "X_test = X_test / 255\n",
        "\n",
        "# one hot encode outputs\n",
        "y_train = np_utils.to_categorical(y_train_augmented)\n",
        "y_test = np_utils.to_categorical(y_test)\n",
        "num_classes = y_test.shape[1]"
      ],
      "execution_count": 0,
      "outputs": []
    },
    {
      "cell_type": "code",
      "metadata": {
        "id": "sRzetpDBBf4s",
        "colab_type": "code",
        "colab": {}
      },
      "source": [
        "# define a simple CNN model\n",
        "def baseline_model():\n",
        "\t# create model\n",
        "\tmodel = Sequential()\n",
        "\tmodel.add(Conv2D(32, (5, 5), input_shape=(28, 28, 1), activation='relu'))\n",
        "\tmodel.add(MaxPooling2D())\n",
        "\tmodel.add(Dropout(0.2))\n",
        "\tmodel.add(Flatten())\n",
        "\tmodel.add(Dense(128, activation='relu'))\n",
        "\tmodel.add(Dense(num_classes, activation='softmax'))\n",
        "\t\n",
        "  # Compile model\n",
        "\tmodel.compile(loss='categorical_crossentropy', optimizer='adam', metrics=['accuracy'])\n",
        "\treturn model"
      ],
      "execution_count": 0,
      "outputs": []
    },
    {
      "cell_type": "code",
      "metadata": {
        "id": "6XEH-R6EBmOE",
        "colab_type": "code",
        "outputId": "c93178c4-34aa-41ce-bd16-e45d4c9b181f",
        "colab": {
          "base_uri": "https://localhost:8080/",
          "height": 357
        }
      },
      "source": [
        "# build the model\n",
        "model_simple = baseline_model()\n",
        "model_simple.summary()"
      ],
      "execution_count": 0,
      "outputs": [
        {
          "output_type": "stream",
          "text": [
            "Model: \"sequential_10\"\n",
            "_________________________________________________________________\n",
            "Layer (type)                 Output Shape              Param #   \n",
            "=================================================================\n",
            "conv2d_10 (Conv2D)           (None, 24, 24, 32)        832       \n",
            "_________________________________________________________________\n",
            "max_pooling2d_10 (MaxPooling (None, 12, 12, 32)        0         \n",
            "_________________________________________________________________\n",
            "dropout_10 (Dropout)         (None, 12, 12, 32)        0         \n",
            "_________________________________________________________________\n",
            "flatten_10 (Flatten)         (None, 4608)              0         \n",
            "_________________________________________________________________\n",
            "dense_19 (Dense)             (None, 128)               589952    \n",
            "_________________________________________________________________\n",
            "dense_20 (Dense)             (None, 10)                1290      \n",
            "=================================================================\n",
            "Total params: 592,074\n",
            "Trainable params: 592,074\n",
            "Non-trainable params: 0\n",
            "_________________________________________________________________\n"
          ],
          "name": "stdout"
        }
      ]
    },
    {
      "cell_type": "code",
      "metadata": {
        "id": "rmXSph8guGwg",
        "colab_type": "code",
        "outputId": "22c63cf6-18c9-43ab-a575-1570e2b2eb8a",
        "colab": {
          "base_uri": "https://localhost:8080/",
          "height": 428
        }
      },
      "source": [
        "model_simple.fit(X_train, y_train, validation_data=(X_test, y_test), epochs=10, batch_size=200)\n",
        "\n",
        "# Final evaluation of the model\n",
        "scores = model_simple.evaluate(X_test, y_test, verbose=1)\n",
        "\n",
        "print(\"CNN Error: %.2f%%\" % (100-scores[1]*100))"
      ],
      "execution_count": 0,
      "outputs": [
        {
          "output_type": "stream",
          "text": [
            "Train on 542817 samples, validate on 10000 samples\n",
            "Epoch 1/10\n",
            "542817/542817 [==============================] - 14s 26us/step - loss: 0.0110 - accuracy: 0.9963 - val_loss: 0.0214 - val_accuracy: 0.9941\n",
            "Epoch 2/10\n",
            "542817/542817 [==============================] - 14s 25us/step - loss: 0.0082 - accuracy: 0.9972 - val_loss: 0.0193 - val_accuracy: 0.9942\n",
            "Epoch 3/10\n",
            "542817/542817 [==============================] - 14s 25us/step - loss: 0.0066 - accuracy: 0.9977 - val_loss: 0.0218 - val_accuracy: 0.9940\n",
            "Epoch 4/10\n",
            "542817/542817 [==============================] - 14s 25us/step - loss: 0.0055 - accuracy: 0.9981 - val_loss: 0.0277 - val_accuracy: 0.9929\n",
            "Epoch 5/10\n",
            "542817/542817 [==============================] - 14s 25us/step - loss: 0.0050 - accuracy: 0.9982 - val_loss: 0.0237 - val_accuracy: 0.9935\n",
            "Epoch 6/10\n",
            "542817/542817 [==============================] - 14s 25us/step - loss: 0.0041 - accuracy: 0.9986 - val_loss: 0.0277 - val_accuracy: 0.9930\n",
            "Epoch 7/10\n",
            "542817/542817 [==============================] - 14s 25us/step - loss: 0.0038 - accuracy: 0.9987 - val_loss: 0.0278 - val_accuracy: 0.9935\n",
            "Epoch 8/10\n",
            "542817/542817 [==============================] - 14s 26us/step - loss: 0.0037 - accuracy: 0.9988 - val_loss: 0.0307 - val_accuracy: 0.9928\n",
            "Epoch 9/10\n",
            "542817/542817 [==============================] - 14s 25us/step - loss: 0.0033 - accuracy: 0.9989 - val_loss: 0.0276 - val_accuracy: 0.9938\n",
            "Epoch 10/10\n",
            "542817/542817 [==============================] - 14s 25us/step - loss: 0.0032 - accuracy: 0.9989 - val_loss: 0.0271 - val_accuracy: 0.9941\n",
            "10000/10000 [==============================] - 1s 58us/step\n",
            "CNN Error: 0.59%\n"
          ],
          "name": "stdout"
        }
      ]
    },
    {
      "cell_type": "code",
      "metadata": {
        "id": "JOyTpcKMwu-8",
        "colab_type": "code",
        "colab": {}
      },
      "source": [
        "def preprocess_for_CNN(digit: np.ndarray):\n",
        "  digit = 255 - digit\n",
        "  digit = digit/255\n",
        "  digit = digit.reshape((1, 28, 28, 1))\n",
        "  return digit"
      ],
      "execution_count": 0,
      "outputs": []
    },
    {
      "cell_type": "code",
      "metadata": {
        "id": "6Tr8HdTfKgKl",
        "colab_type": "code",
        "outputId": "bf437b36-9193-465e-c2f7-b5d071703ae1",
        "colab": {
          "base_uri": "https://localhost:8080/",
          "height": 34
        }
      },
      "source": [
        "X_small_test = np.zeros((X_raw_train_2.shape[0], 28, 28, 1))\n",
        "for i in range(X_raw_train_2.shape[0]):\n",
        "  X_small_test[i] = preprocess_for_CNN(X_raw_train_2[i])\n",
        "\n",
        "# processed_digit = preprocess_for_CNN(X_raw_train_2)\n",
        "print(X_small_test.shape)"
      ],
      "execution_count": 0,
      "outputs": [
        {
          "output_type": "stream",
          "text": [
            "(313, 28, 28, 1)\n"
          ],
          "name": "stdout"
        }
      ]
    },
    {
      "cell_type": "code",
      "metadata": {
        "id": "P0baS2JqKuSU",
        "colab_type": "code",
        "colab": {}
      },
      "source": [
        "probabilities_mat = model_simple.predict(X_small_test)\n",
        "y_pred = np.zeros((probabilities_mat.shape[0], ), dtype=np.uint8)\n",
        "for i in range(len(probabilities_mat)):\n",
        "  y_pred[i] = np.argmax(probabilities_mat[i])"
      ],
      "execution_count": 0,
      "outputs": []
    },
    {
      "cell_type": "code",
      "metadata": {
        "id": "ah8lJT4iNK3B",
        "colab_type": "code",
        "outputId": "ea505109-16e2-4d00-e987-b7d4d07ab897",
        "colab": {
          "base_uri": "https://localhost:8080/",
          "height": 68
        }
      },
      "source": [
        "from sklearn.metrics import accuracy_score\n",
        "print(y_pred[0:15])\n",
        "print(y_train_2[0:15])\n",
        "print(accuracy_score(y_pred, y_train_2))"
      ],
      "execution_count": 0,
      "outputs": [
        {
          "output_type": "stream",
          "text": [
            "[1 8 9 3 4 2 5 3 9 6 4 3 7 1 9]\n",
            "[1 8 9 3 4 2 5 3 9 6 4 3 7 1 9]\n",
            "0.9648562300319489\n"
          ],
          "name": "stdout"
        }
      ]
    },
    {
      "cell_type": "code",
      "metadata": {
        "id": "fbGHluH8NRbk",
        "colab_type": "code",
        "colab": {}
      },
      "source": [
        "model_simple.save('my_model.h5')  # creates a HDF5 file 'my_model.h5'"
      ],
      "execution_count": 0,
      "outputs": []
    },
    {
      "cell_type": "code",
      "metadata": {
        "id": "4XoapmTdQrQX",
        "colab_type": "code",
        "colab": {}
      },
      "source": [
        "import tensorflow"
      ],
      "execution_count": 0,
      "outputs": []
    },
    {
      "cell_type": "code",
      "metadata": {
        "id": "lkZ-9qltCu6i",
        "colab_type": "code",
        "outputId": "5e1b2869-2973-4235-e931-a7735c5e4cfe",
        "colab": {
          "base_uri": "https://localhost:8080/",
          "height": 34
        }
      },
      "source": [
        "tensorflow.__version__"
      ],
      "execution_count": 0,
      "outputs": [
        {
          "output_type": "execute_result",
          "data": {
            "text/plain": [
              "'2.2.0'"
            ]
          },
          "metadata": {
            "tags": []
          },
          "execution_count": 2
        }
      ]
    },
    {
      "cell_type": "code",
      "metadata": {
        "id": "TmeuA8qyCz60",
        "colab_type": "code",
        "outputId": "48bfbed5-8632-45f5-c857-b7b5b057d568",
        "colab": {
          "base_uri": "https://localhost:8080/",
          "height": 51
        }
      },
      "source": [
        "import keras\n",
        "keras.__version__"
      ],
      "execution_count": 0,
      "outputs": [
        {
          "output_type": "stream",
          "text": [
            "Using TensorFlow backend.\n"
          ],
          "name": "stderr"
        },
        {
          "output_type": "execute_result",
          "data": {
            "text/plain": [
              "'2.3.1'"
            ]
          },
          "metadata": {
            "tags": []
          },
          "execution_count": 4
        }
      ]
    },
    {
      "cell_type": "code",
      "metadata": {
        "id": "G4X5eSrxC3BJ",
        "colab_type": "code",
        "colab": {}
      },
      "source": [
        ""
      ],
      "execution_count": 0,
      "outputs": []
    }
  ]
}